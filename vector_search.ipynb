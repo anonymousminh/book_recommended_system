{
 "cells": [
  {
   "cell_type": "code",
   "execution_count": null,
   "id": "0",
   "metadata": {},
   "outputs": [],
   "source": [
    "from langchain_community.document_loaders import TextLoader\n",
    "from langchain_text_splitters import CharacterTextSplitter\n",
    "from langchain_openai import OpenAIEmbeddings\n",
    "from langchain_chroma import Chroma"
   ]
  },
  {
   "cell_type": "code",
   "execution_count": null,
   "id": "1",
   "metadata": {},
   "outputs": [],
   "source": [
    "from dotenv import load_dotenv\n",
    "\n",
    "load_dotenv()"
   ]
  },
  {
   "cell_type": "code",
   "execution_count": null,
   "id": "2",
   "metadata": {},
   "outputs": [],
   "source": [
    "import pandas as pd"
   ]
  },
  {
   "cell_type": "code",
   "execution_count": null,
   "id": "3",
   "metadata": {},
   "outputs": [],
   "source": [
    "# Read new books data\n",
    "books = pd.read_csv(\"books_cleaned.csv\")\n",
    "\n",
    "books"
   ]
  },
  {
   "cell_type": "code",
   "execution_count": null,
   "id": "4",
   "metadata": {},
   "outputs": [],
   "source": [
    "books[\"tagged_description\"]"
   ]
  },
  {
   "cell_type": "markdown",
   "id": "5",
   "metadata": {},
   "source": [
    "We will save the tagged_description to a text file"
   ]
  },
  {
   "cell_type": "code",
   "execution_count": null,
   "id": "6",
   "metadata": {},
   "outputs": [],
   "source": [
    "books[\"tagged_description\"].to_csv(\"tagged_description.txt\", sep= \"\\n\", index=False, header=False)"
   ]
  },
  {
   "cell_type": "code",
   "execution_count": null,
   "id": "7",
   "metadata": {},
   "outputs": [],
   "source": [
    "raw_documents = TextLoader(\"tagged_description.txt\").load()\n",
    "text_splitter = CharacterTextSplitter(\n",
    "    separator=\"\\n\",\n",
    "    chunk_size=0,\n",
    "    chunk_overlap=0,\n",
    ")\n",
    "documents = text_splitter.split_documents(raw_documents)"
   ]
  },
  {
   "cell_type": "code",
   "execution_count": null,
   "id": "8",
   "metadata": {},
   "outputs": [],
   "source": [
    "documents[0]"
   ]
  },
  {
   "cell_type": "code",
   "execution_count": null,
   "id": "9",
   "metadata": {},
   "outputs": [],
   "source": [
    "db_books = Chroma.from_documents(\n",
    "    documents,\n",
    "    embedding=OpenAIEmbeddings()\n",
    ")"
   ]
  },
  {
   "cell_type": "code",
   "execution_count": null,
   "id": "10",
   "metadata": {},
   "outputs": [],
   "source": [
    "# Run example query\n",
    "query = \"A book about AI\"\n",
    "docs = db_books.similarity_search(query, k=10)\n",
    "docs"
   ]
  },
  {
   "cell_type": "markdown",
   "id": "11",
   "metadata": {},
   "source": [
    "Nice, we just got some recommendations about the book that we looking for.\n",
    "However, we don't want to recommend the description of the book, we want the title of it.\n",
    "The \"isbn13\" is the one that help us find the title "
   ]
  },
  {
   "cell_type": "code",
   "execution_count": null,
   "id": "12",
   "metadata": {},
   "outputs": [],
   "source": [
    "# Check the title for the first recommended book from above\n",
    "books[books[\"isbn13\"] == int(docs[0].page_content.split()[0].strip())]"
   ]
  },
  {
   "cell_type": "code",
   "execution_count": null,
   "id": "13",
   "metadata": {},
   "outputs": [],
   "source": [
    "# Now make a function to get recommendations for a given query\n",
    "def get_book_recommendations(query, top_k: int = 10) -> pd.DataFrame:\n",
    "    \"\"\"\n",
    "    Get book recommendations based on a query.\n",
    "    \"\"\"\n",
    "    recs = db_books.similarity_search(query, k=50)\n",
    "    recommended_books = []\n",
    "    for i in range(0, len(recs)):\n",
    "        recommended_books += [int(recs[i].page_content.strip('\"').split()[0])]\n",
    "    return books[books[\"isbn13\"].isin(recommended_books)]"
   ]
  },
  {
   "cell_type": "code",
   "execution_count": null,
   "id": "14",
   "metadata": {},
   "outputs": [],
   "source": [
    "get_book_recommendations(\"A book teaches children about nature\")"
   ]
  }
 ],
 "metadata": {
  "kernelspec": {
   "display_name": "llm_book_recommender",
   "language": "python",
   "name": "python3"
  },
  "language_info": {
   "codemirror_mode": {
    "name": "ipython",
    "version": 3
   },
   "file_extension": ".py",
   "mimetype": "text/x-python",
   "name": "python",
   "nbconvert_exporter": "python",
   "pygments_lexer": "ipython3",
   "version": "3.11.9"
  }
 },
 "nbformat": 4,
 "nbformat_minor": 5
}
